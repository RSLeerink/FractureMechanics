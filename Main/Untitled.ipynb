{
 "cells": [
  {
   "cell_type": "code",
   "execution_count": 49,
   "metadata": {},
   "outputs": [],
   "source": [
    "from pandas import DataFrame\n",
    "import pandas as pd\n",
    "\n",
    "#Table 18.2\n",
    "def CreateMaterialDatabase():\n",
    "    MaterialData = {    'Material':         ['2024-T351'],\n",
    "                        'Tougness K_IC':    [34], \n",
    "                        'Yield':            [325],\n",
    "                        'Ultimate':         [470]} \n",
    "\n",
    "    #Creates a DataFrame from the provided MaterialData\n",
    "    MaterialData_df = DataFrame(MaterialData)\n",
    "\n",
    "    #Sets index to the material property\n",
    "    MaterialData_df = MaterialData_df.set_index('Material')\n",
    "    \n",
    "    #Prints the created DataFrame\n",
    "    #print(MaterialData_df)\n",
    "\n",
    "    #Outputs the created data in pickle format\n",
    "    MaterialData_df.to_pickle(\"Test_df.pkl\")\n",
    "    \n",
    "\n",
    "\n",
    "def selectMaterial(MaterialData_df,MaterialName):\n",
    "    #MaterialData_df.loc['2024-T351']\n",
    "    MaterialData_df = MaterialData_df.loc[MaterialName]\n",
    "    \n",
    "    #print(MaterialData_df)\n",
    "    \n",
    "    return MaterialData_df\n",
    "    \n",
    " \n",
    "\n",
    "\n",
    "\n",
    "\n",
    "    \n",
    "\n",
    " "
   ]
  },
  {
   "cell_type": "code",
   "execution_count": 44,
   "metadata": {},
   "outputs": [
    {
     "data": {
      "text/html": [
       "<div>\n",
       "<style scoped>\n",
       "    .dataframe tbody tr th:only-of-type {\n",
       "        vertical-align: middle;\n",
       "    }\n",
       "\n",
       "    .dataframe tbody tr th {\n",
       "        vertical-align: top;\n",
       "    }\n",
       "\n",
       "    .dataframe thead th {\n",
       "        text-align: right;\n",
       "    }\n",
       "</style>\n",
       "<table border=\"1\" class=\"dataframe\">\n",
       "  <thead>\n",
       "    <tr style=\"text-align: right;\">\n",
       "      <th></th>\n",
       "      <th>Tougness K_IC</th>\n",
       "      <th>Yield</th>\n",
       "      <th>Ultimate</th>\n",
       "    </tr>\n",
       "    <tr>\n",
       "      <th>Material</th>\n",
       "      <th></th>\n",
       "      <th></th>\n",
       "      <th></th>\n",
       "    </tr>\n",
       "  </thead>\n",
       "  <tbody>\n",
       "    <tr>\n",
       "      <th>2024-T351</th>\n",
       "      <td>34</td>\n",
       "      <td>325</td>\n",
       "      <td>470</td>\n",
       "    </tr>\n",
       "  </tbody>\n",
       "</table>\n",
       "</div>"
      ],
      "text/plain": [
       "           Tougness K_IC  Yield  Ultimate\n",
       "Material                                 \n",
       "2024-T351             34    325       470"
      ]
     },
     "execution_count": 44,
     "metadata": {},
     "output_type": "execute_result"
    }
   ],
   "source": [
    "    MaterialData = {    'Material':         ['2024-T351'],\n",
    "                        'Tougness K_IC':    [34], \n",
    "                        'Yield':            [325],\n",
    "                        'Ultimate':         [470]} \n",
    "\n",
    "    MaterialData_df = DataFrame(MaterialData)\n",
    "    MaterialData_df = MaterialData_df.set_index('Material')\n",
    "    \n",
    "    MaterialData_df"
   ]
  },
  {
   "cell_type": "code",
   "execution_count": 45,
   "metadata": {},
   "outputs": [
    {
     "data": {
      "text/plain": [
       "Tougness K_IC     34\n",
       "Yield            325\n",
       "Ultimate         470\n",
       "Name: 2024-T351, dtype: int64"
      ]
     },
     "execution_count": 45,
     "metadata": {},
     "output_type": "execute_result"
    }
   ],
   "source": [
    "MaterialData_df.loc['2024-T351']"
   ]
  },
  {
   "cell_type": "code",
   "execution_count": 46,
   "metadata": {},
   "outputs": [],
   "source": [
    "CreateMaterialDatabase()"
   ]
  },
  {
   "cell_type": "code",
   "execution_count": 47,
   "metadata": {},
   "outputs": [
    {
     "name": "stdout",
     "output_type": "stream",
     "text": [
      "Tougness K_IC     34\n",
      "Yield            325\n",
      "Ultimate         470\n",
      "Name: 2024-T351, dtype: int64\n"
     ]
    },
    {
     "data": {
      "text/plain": [
       "Tougness K_IC     34\n",
       "Yield            325\n",
       "Ultimate         470\n",
       "Name: 2024-T351, dtype: int64"
      ]
     },
     "execution_count": 47,
     "metadata": {},
     "output_type": "execute_result"
    }
   ],
   "source": [
    "MaterialName = '2024-T351'\n",
    "MaterialData_df = pd.read_pickle('Test_df.pkl')\n",
    "#MaterialData_df\n",
    "#selectMaterial(MaterialData_df,MaterialName)\n",
    "FractureToughnessMaterials(MaterialName)"
   ]
  },
  {
   "cell_type": "code",
   "execution_count": 50,
   "metadata": {},
   "outputs": [
    {
     "name": "stdout",
     "output_type": "stream",
     "text": [
      "Tougness K_IC     34\n",
      "Yield            325\n",
      "Ultimate         470\n",
      "Name: 2024-T351, dtype: int64\n"
     ]
    },
    {
     "data": {
      "text/plain": [
       "Tougness K_IC     34\n",
       "Yield            325\n",
       "Ultimate         470\n",
       "Name: 2024-T351, dtype: int64"
      ]
     },
     "execution_count": 50,
     "metadata": {},
     "output_type": "execute_result"
    }
   ],
   "source": [
    "FractureToughnessMaterials(MaterialName)"
   ]
  },
  {
   "cell_type": "code",
   "execution_count": 51,
   "metadata": {},
   "outputs": [
    {
     "name": "stdout",
     "output_type": "stream",
     "text": [
      "Tougness K_IC     34\n",
      "Yield            325\n",
      "Ultimate         470\n",
      "Name: 2024-T351, dtype: int64\n"
     ]
    }
   ],
   "source": [
    "A = FractureToughnessMaterials(MaterialName)"
   ]
  },
  {
   "cell_type": "code",
   "execution_count": 52,
   "metadata": {},
   "outputs": [
    {
     "data": {
      "text/plain": [
       "34"
      ]
     },
     "execution_count": 52,
     "metadata": {},
     "output_type": "execute_result"
    }
   ],
   "source": [
    "A[0]"
   ]
  },
  {
   "cell_type": "code",
   "execution_count": null,
   "metadata": {},
   "outputs": [],
   "source": []
  }
 ],
 "metadata": {
  "kernelspec": {
   "display_name": "Python 3",
   "language": "python",
   "name": "python3"
  },
  "language_info": {
   "codemirror_mode": {
    "name": "ipython",
    "version": 3
   },
   "file_extension": ".py",
   "mimetype": "text/x-python",
   "name": "python",
   "nbconvert_exporter": "python",
   "pygments_lexer": "ipython3",
   "version": "3.7.6"
  }
 },
 "nbformat": 4,
 "nbformat_minor": 4
}
